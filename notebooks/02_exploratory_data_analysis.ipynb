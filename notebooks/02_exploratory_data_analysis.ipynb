{
 "cells": [
  {
   "cell_type": "markdown",
   "metadata": {},
   "source": [
    "# Customer Churn Prediction - Exploratory Data Analysis\n",
    "\n",
    "This notebook performs exploratory data analysis on the bank customer churn dataset to identify patterns and relationships between features and customer churn."
   ]
  },
  {
   "cell_type": "code",
   "execution_count": null,
   "metadata": {},
   "outputs": [],
   "source": [
    "# Import necessary libraries\n",
    "import pandas as pd\n",
    "import numpy as np\n",
    "import matplotlib.pyplot as plt\n",
    "import seaborn as sns\n",
    "import os\n",
    "from scipy import stats\n",
    "\n",
    "# Set up plotting\n",
    "%matplotlib inline\n",
    "plt.style.use('seaborn-whitegrid')\n",
    "sns.set_style('whitegrid')\n",
    "plt.rcParams['figure.figsize'] = (12, 8)\n",
    "\n",
    "# Create directories for saving plots\n",
    "os.makedirs('../docs/plots', exist_ok=True)"
   ]
  },
  {
   "cell_type": "markdown",
   "metadata": {},
   "source": [
    "## 1. Load the Cleaned Data"
   ]
  },
  {
   "cell_type": "code",
   "execution_count": null,
   "metadata": {},
   "outputs": [],
   "source": [
    "# Load the cleaned data\n",
    "df_cleaned = pd.read_csv('../data/cleaned/churn_cleaned.csv')\n",
    "\n",
    "# Display basic information\n",
    "print(f\"Dataset shape: {df_cleaned.shape}\")\n",
    "print(f\"\\nColumns: {df_cleaned.columns.tolist()}\")\n",
    "print(f\"\\nData types:\\n{df_cleaned.dtypes}\")\n",
    "print(f\"\\nSample data:\")\n",
    "df_cleaned.head()"
   ]
  },
  {
   "cell_type": "markdown",
   "metadata": {},
   "source": [
    "## 2. Basic Statistical Analysis"
   ]
  },
  {
   "cell_type": "code",
   "execution_count": null,
   "metadata": {},
   "outputs": [],
   "source": [
    "# Summary statistics\n",
    "print(\"Summary statistics for numerical features:\")\n",
    "df_cleaned.describe()"
   ]
  },
  {
   "cell_type": "code",
   "execution_count": null,
   "metadata": {},
   "outputs": [],
   "source": [
    "# Summary statistics for categorical features\n",
    "print(\"Summary statistics for categorical features:\")\n",
    "df_cleaned.describe(include=['object'])"
   ]
  },
  {
   "cell_type": "code",
   "execution_count": null,
   "metadata": {},
   "outputs": [],
   "source": [
    "# Check for missing values\n",
    "print(\"Missing values:\")\n",
    "df_cleaned.isnull().sum()"
   ]
  },
  {
   "cell_type": "markdown",
   "metadata": {},
   "source": [
    "## 3. Target Variable Analysis"
   ]
  },
  {
   "cell_type": "code",
   "execution_count": null,
   "metadata": {},
   "outputs": [],
   "source": [
    "# Analyze the target variable (Exited)\n",
    "churn_counts = df_cleaned['Exited'].value_counts()\n",
    "churn_percentage = df_cleaned['Exited'].value_counts(normalize=True) * 100\n",
    "\n",
    "print(\"Churn counts:\")\n",
    "print(churn_counts)\n",
    "print(\"\\nChurn percentage:\")\n",
    "print(churn_percentage)\n",
    "\n",
    "# Visualize the churn distribution\n",
    "plt.figure(figsize=(10, 6))\n",
    "ax = sns.countplot(x='Exited', data=df_cleaned, palette='viridis')\n",
    "plt.title('Customer Churn Distribution', fontsize=15)\n",
    "plt.xlabel('Exited (0 = No, 1 = Yes)', fontsize=12)\n",
    "plt.ylabel('Count', fontsize=12)\n",
    "\n",
    "# Add count and percentage labels\n",
    "for i, count in enumerate(churn_counts):\n",
    "    ax.text(i, count + 100, f\"{count} ({churn_percentage[i]:.2f}%)\", ha='center', fontsize=12)\n",
    "\n",
    "plt.tight_layout()\n",
    "plt.savefig('../docs/plots/churn_distribution.png', dpi=300, bbox_inches='tight')\n",
    "plt.show()"
   ]
  },
  {
   "cell_type": "markdown",
   "metadata": {},
   "source": [
    "## 4. Univariate Analysis"
   ]
  },
  {
   "cell_type": "markdown",
   "metadata": {},
   "source": [
    "### 4.1 Numerical Features"
   ]
  },
  {
   "cell_type": "code",
   "execution_count": null,
   "metadata": {},
   "outputs": [],
   "source": [
    "# Analyze numerical features\n",
    "numerical_features = ['CreditScore', 'Age', 'Tenure', 'Balance', 'NumOfProducts', 'EstimatedSalary']\n",
    "\n",
    "# Create histograms for each numerical feature\n",
    "fig, axes = plt.subplots(2, 3, figsize=(18, 12))\n",
    "axes = axes.flatten()\n",
    "\n",
    "for i, feature in enumerate(numerical_features):\n",
    "    sns.histplot(df_cleaned[feature], kde=True, ax=axes[i])\n",
    "    axes[i].set_title(f'Distribution of {feature}', fontsize=14)\n",
    "    axes[i].set_xlabel(feature, fontsize=12)\n",
    "    axes[i].set_ylabel('Frequency', fontsize=12)\n",
    "    \n",
    "plt.tight_layout()\n",
    "plt.savefig('../docs/plots/numerical_features_distribution.png', dpi=300, bbox_inches='tight')\n",
    "plt.show()"
   ]
  },
  {
   "cell_type": "code",
   "execution_count": null,
   "metadata": {},
   "outputs": [],
   "source": [
    "# Create box plots for each numerical feature\n",
    "fig, axes = plt.subplots(2, 3, figsize=(18, 12))\n",
    "axes = axes.flatten()\n",
    "\n",
    "for i, feature in enumerate(numerical_features):\n",
    "    sns.boxplot(y=df_cleaned[feature], ax=axes[i])\n",
    "    axes[i].set_title(f'Box Plot of {feature}', fontsize=14)\n",
    "    axes[i].set_ylabel(feature, fontsize=12)\n",
    "    \n",
    "plt.tight_layout()\n",
    "plt.savefig('../docs/plots/numerical_features_boxplots.png', dpi=300, bbox_inches='tight')\n",
    "plt.show()"
   ]
  },
  {
   "cell_type": "markdown",
   "metadata": {},
   "source": [
    "### 4.2 Categorical Features"
   ]
  },
  {
   "cell_type": "code",
   "execution_count": null,
   "metadata": {},
   "outputs": [],
   "source": [
    "# Analyze categorical features\n",
    "categorical_features = ['Geography', 'Gender', 'HasCrCard', 'IsActiveMember']\n",
    "\n",
    "# Create count plots for each categorical feature\n",
    "fig, axes = plt.subplots(2, 2, figsize=(16, 12))\n",
    "axes = axes.flatten()\n",
    "\n",
    "for i, feature in enumerate(categorical_features):\n",
    "    counts = df_cleaned[feature].value_counts()\n",
    "    percentages = df_cleaned[feature].value_counts(normalize=True) * 100\n",
    "    \n",
    "    ax = sns.countplot(x=feature, data=df_cleaned, ax=axes[i], palette='viridis')\n",
    "    axes[i].set_title(f'Distribution of {feature}', fontsize=14)\n",
    "    axes[i].set_xlabel(feature, fontsize=12)\n",
    "    axes[i].set_ylabel('Count', fontsize=12)\n",
    "    \n",
    "    # Add count and percentage labels\n",
    "    for j, count in enumerate(counts):\n",
    "        ax.text(j, count + 50, f\"{count} ({percentages.iloc[j]:.2f}%)\", ha='center', fontsize=10)\n",
    "    \n",
    "plt.tight_layout()\n",
    "plt.savefig('../docs/plots/categorical_features_distribution.png', dpi=300, bbox_inches='tight')\n",
    "plt.show()"
   ]
  },
  {
   "cell_type": "markdown",
   "metadata": {},
   "source": [
    "## 5. Bivariate Analysis"
   ]
  },
  {
   "cell_type": "markdown",
   "metadata": {},
   "source": [
    "### 5.1 Numerical Features vs. Target"
   ]
  },
  {
   "cell_type": "code",
   "execution_count": null,
   "metadata": {},
   "outputs": [],
   "source": [
    "# Analyze numerical features vs. target\n",
    "fig, axes = plt.subplots(2, 3, figsize=(18, 12))\n",
    "axes = axes.flatten()\n",
    "\n",
    "for i, feature in enumerate(numerical_features):\n",
    "    sns.boxplot(x='Exited', y=feature, data=df_cleaned, ax=axes[i], palette='viridis')\n",
    "    axes[i].set_title(f'{feature} vs. Churn', fontsize=14)\n",
    "    axes[i].set_xlabel('Exited (0 = No, 1 = Yes)', fontsize=12)\n",
    "    axes[i].set_ylabel(feature, fontsize=12)\n",
    "    \n",
    "plt.tight_layout()\n",
    "plt.savefig('../docs/plots/numerical_vs_target_boxplots.png', dpi=300, bbox_inches='tight')\n",
    "plt.show()"
   ]
  },
  {
   "cell_type": "code",
   "execution_count": null,
   "metadata": {},
   "outputs": [],
   "source": [
    "# Statistical tests for numerical features vs. target\n",
    "print(\"Statistical tests for numerical features vs. target:\")\n",
    "print(\"\\nMann-Whitney U Test (non-parametric test for differences between two groups):\")\n",
    "\n",
    "for feature in numerical_features:\n",
    "    # Split data by churn status\n",
    "    churned = df_cleaned[df_cleaned['Exited'] == 1][feature]\n",
    "    not_churned = df_cleaned[df_cleaned['Exited'] == 0][feature]\n",
    "    \n",
    "    # Perform Mann-Whitney U test\n",
    "    u_stat, p_value = stats.mannwhitneyu(churned, not_churned, alternative='two-sided')\n",
    "    \n",
    "    # Calculate mean values for each group\n",
    "    churned_mean = churned.mean()\n",
    "    not_churned_mean = not_churned.mean()\n",
    "    \n",
    "    print(f\"{feature}:\")\n",
    "    print(f\"  Churned mean: {churned_mean:.2f}\")\n",
    "    print(f\"  Not churned mean: {not_churned_mean:.2f}\")\n",
    "    print(f\"  Difference: {churned_mean - not_churned_mean:.2f}\")\n",
    "    print(f\"  U statistic: {u_stat:.2f}\")\n",
    "    print(f\"  p-value: {p_value:.6f}\")\n",
    "    print(f\"  Significant difference: {'Yes' if p_value < 0.05 else 'No'}\\n\")"
   ]
  },
  {
   "cell_type": "markdown",
   "metadata": {},
   "source": [
    "### 5.2 Categorical Features vs. Target"
   ]
  },
  {
   "cell_type": "code",
   "execution_count": null,
   "metadata": {},
   "outputs": [],
   "source": [
    "# Analyze categorical features vs. target\n",
    "fig, axes = plt.subplots(2, 2, figsize=(16, 12))\n",
    "axes = axes.flatten()\n",
    "\n",
    "for i, feature in enumerate(categorical_features):\n",
    "    # Calculate churn rate by category\n",
    "    churn_rate = df_cleaned.groupby(feature)['Exited'].mean() * 100\n",
    "    \n",
    "    # Create count plot\n",
    "    ax = sns.countplot(x=feature, hue='Exited', data=df_cleaned, ax=axes[i], palette='viridis')\n",
    "    axes[i].set_title(f'{feature} vs. Churn', fontsize=14)\n",
    "    axes[i].set_xlabel(feature, fontsize=12)\n",
    "    axes[i].set_ylabel('Count', fontsize=12)\n",
    "    \n",
    "    # Add churn rate labels\n",
    "    for j, category in enumerate(churn_rate.index):\n",
    "        axes[i].text(j, 10, f\"Churn: {churn_rate[category]:.1f}%\", ha='center', fontsize=10, color='red')\n",
    "    \n",
    "plt.tight_layout()\n",
    "plt.savefig('../docs/plots/categorical_vs_target_countplots.png', dpi=300, bbox_inches='tight')\n",
    "plt.show()"
   ]
  },
  {
   "cell_type": "code",
   "execution_count": null,
   "metadata": {},
   "outputs": [],
   "source": [
    "# Statistical tests for categorical features vs. target\n",
    "print(\"Statistical tests for categorical features vs. target:\")\n",
    "print(\"\\nChi-square Test (test for independence between categorical variables):\")\n",
    "\n",
    "for feature in categorical_features:\n",
    "    # Create contingency table\n",
    "    contingency_table = pd.crosstab(df_cleaned[feature], df_cleaned['Exited'])\n",
    "    \n",
    "    # Perform chi-square test\n",
    "    chi2, p_value, dof, expected = stats.chi2_contingency(contingency_table)\n",
    "    \n",
    "    print(f\"{feature}:\")\n",
    "    print(f\"  Contingency table:\\n{contingency_table}\")\n",
    "    print(f\"  Chi-square statistic: {chi2:.2f}\")\n",
    "    print(f\"  p-value: {p_value:.6f}\")\n",
    "    print(f\"  Significant association: {'Yes' if p_value < 0.05 else 'No'}\\n\")"
   ]
  },
  {
   "cell_type": "markdown",
   "metadata": {},
   "source": [
    "## 6. Age Analysis"
   ]
  },
  {
   "cell_type": "code",
   "execution_count": null,
   "metadata": {},
   "outputs": [],
   "source": [
    "# Create age groups\n",
    "df_cleaned['AgeGroup'] = pd.cut(df_cleaned['Age'], bins=[0, 30, 40, 50, 60, 100], labels=['<30', '30-40', '40-50', '50-60', '>60'])\n",
    "\n",
    "# Calculate churn rate by age group\n",
    "age_group_churn = df_cleaned.groupby('AgeGroup')['Exited'].agg(['count', 'mean'])\n",
    "age_group_churn['mean'] = age_group_churn['mean'] * 100  # Convert to percentage\n",
    "age_group_churn.columns = ['Count', 'Churn Rate (%)']  # Rename columns\n",
    "\n",
    "print(\"Churn rate by age group:\")\n",
    "print(age_group_churn)\n",
    "\n",
    "# Visualize churn rate by age group\n",
    "plt.figure(figsize=(12, 6))\n",
    "ax = sns.barplot(x=age_group_churn.index, y='Churn Rate (%)', data=age_group_churn, palette='viridis')\n",
    "plt.title('Churn Rate by Age Group', fontsize=15)\n",
    "plt.xlabel('Age Group', fontsize=12)\n",
    "plt.ylabel('Churn Rate (%)', fontsize=12)\n",
    "\n",
    "# Add value labels\n",
    "for i, v in enumerate(age_group_churn['Churn Rate (%)']):\n",
    "    ax.text(i, v + 1, f\"{v:.1f}%\", ha='center', fontsize=12)\n",
    "\n",
    "plt.tight_layout()\n",
    "plt.savefig('../docs/plots/churn_by_age_group.png', dpi=300, bbox_inches='tight')\n",
    "plt.show()"
   ]
  },
  {
   "cell_type": "markdown",
   "metadata": {},
   "source": [
    "## 7. Geography Analysis"
   ]
  },
  {
   "cell_type": "code",
   "execution_count": null,
   "metadata": {},
   "outputs": [],
   "source": [
    "# Calculate churn rate by geography\n",
    "geography_churn = df_cleaned.groupby('Geography')['Exited'].agg(['count', 'mean'])\n",
    "geography_churn['mean'] = geography_churn['mean'] * 100  # Convert to percentage\n",
    "geography_churn.columns = ['Count', 'Churn Rate (%)']  # Rename columns\n",
    "\n",
    "print(\"Churn rate by geography:\")\n",
    "print(geography_churn)\n",
    "\n",
    "# Visualize churn rate by geography\n",
    "plt.figure(figsize=(12, 6))\n",
    "ax = sns.barplot(x=geography_churn.index, y='Churn Rate (%)', data=geography_churn, palette='viridis')\n",
    "plt.title('Churn Rate by Geography', fontsize=15)\n",
    "plt.xlabel('Geography', fontsize=12)\n",
    "plt.ylabel('Churn Rate (%)', fontsize=12)\n",
    "\n",
    "# Add value labels\n",
    "for i, v in enumerate(geography_churn['Churn Rate (%)']):\n",
    "    ax.text(i, v + 1, f\"{v:.1f}%\", ha='center', fontsize=12)\n",
    "\n",
    "plt.tight_layout()\n",
    "plt.savefig('../docs/plots/churn_by_geography.png', dpi=300, bbox_inches='tight')\n",
    "plt.show()"
   ]
  },
  {
   "cell_type": "markdown",
   "metadata": {},
   "source": [
    "## 8. Product Analysis"
   ]
  },
  {
   "cell_type": "code",
   "execution_count": null,
   "metadata": {},
   "outputs": [],
   "source": [
    "# Calculate churn rate by number of products\n",
    "product_churn = df_cleaned.groupby('NumOfProducts')['Exited'].agg(['count', 'mean'])\n",
    "product_churn['mean'] = product_churn['mean'] * 100  # Convert to percentage\n",
    "product_churn.columns = ['Count', 'Churn Rate (%)']  # Rename columns\n",
    "\n",
    "print(\"Churn rate by number of products:\")\n",
    "print(product_churn)\n",
    "\n",
    "# Visualize churn rate by number of products\n",
    "plt.figure(figsize=(12, 6))\n",
    "ax = sns.barplot(x=product_churn.index, y='Churn Rate (%)', data=product_churn, palette='viridis')\n",
    "plt.title('Churn Rate by Number of Products', fontsize=15)\n",
    "plt.xlabel('Number of Products', fontsize=12)\n",
    "plt.ylabel('Churn Rate (%)', fontsize=12)\n",
    "\n",
    "# Add value labels\n",
    "for i, v in enumerate(product_churn['Churn Rate (%)']):\n",
    "    ax.text(i, v + 1, f\"{v:.1f}%\", ha='center', fontsize=12)\n",
    "\n",
    "plt.tight_layout()\n",
    "plt.savefig('../docs/plots/churn_by_products.png', dpi=300, bbox_inches='tight')\n",
    "plt.show()"
   ]
  },
  {
   "cell_type": "markdown",
   "metadata": {},
   "source": [
    "## 9. Activity Analysis"
   ]
  },
  {
   "cell_type": "code",
   "execution_count": null,
   "metadata": {},
   "outputs": [],
   "source": [
    "# Calculate churn rate by activity status\n",
    "activity_churn = df_cleaned.groupby('IsActiveMember')['Exited'].agg(['count', 'mean'])\n",
    "activity_churn['mean'] = activity_churn['mean'] * 100  # Convert to percentage\n",
    "activity_churn.columns = ['Count', 'Churn Rate (%)']  # Rename columns\n",
    "activity_churn.index = ['Inactive', 'Active']  # Rename index\n",
    "\n",
    "print(\"Churn rate by activity status:\")\n",
    "print(activity_churn)\n",
    "\n",
    "# Visualize churn rate by activity status\n",
    "plt.figure(figsize=(12, 6))\n",
    "ax = sns.barplot(x=activity_churn.index, y='Churn Rate (%)', data=activity_churn, palette='viridis')\n",
    "plt.title('Churn Rate by Activity Status', fontsize=15)\n",
    "plt.xlabel('Activity Status', fontsize=12)\n",
    "plt.ylabel('Churn Rate (%)', fontsize=12)\n",
    "\n",
    "# Add value labels\n",
    "for i, v in enumerate(activity_churn['Churn Rate (%)']):\n",
    "    ax.text(i, v + 1, f\"{v:.1f}%\", ha='center', fontsize=12)\n",
    "\n",
    "plt.tight_layout()\n",
    "plt.savefig('../docs/plots/churn_by_activity.png', dpi=300, bbox_inches='tight')\n",
    "plt.show()"
   ]
  },
  {
   "cell_type": "markdown",
   "metadata": {},
   "source": [
    "## 10. Correlation Analysis"
   ]
  },
  {
   "cell_type": "code",
   "execution_count": null,
   "metadata": {},
   "outputs": [],
   "source": [
    "# Create correlation matrix\n",
    "# First, create dummy variables for categorical features\n",
    "df_dummies = pd.get_dummies(df_cleaned, columns=['Geography', 'Gender'], drop_first=False)\n",
    "\n",
    "# Calculate correlation matrix\n",
    "correlation_matrix = df_dummies.corr()\n",
    "\n",
    "# Visualize correlation with target\n",
    "plt.figure(figsize=(14, 10))\n",
    "correlation_with_target = correlation_matrix['Exited'].sort_values(ascending=False)\n",
    "correlation_with_target = correlation_with_target[correlation_with_target.index != 'Exited']\n",
    "sns.barplot(x=correlation_with_target.values, y=correlation_with_target.index, palette='viridis')\n",
    "plt.title('Correlation with Churn', fontsize=15)\n",
    "plt.xlabel('Correlation Coefficient', fontsize=12)\n",
    "plt.ylabel('Features', fontsize=12)\n",
    "plt.axvline(x=0, color='r', linestyle='--')\n",
    "plt.tight_layout()\n",
    "plt.savefig('../docs/plots/correlation_with_target.png', dpi=300, bbox_inches='tight')\n",
    "plt.show()\n",
    "\n",
    "# Create heatmap of correlation matrix\n",
    "plt.figure(figsize=(16, 12))\n",
    "mask = np.triu(correlation_matrix)\n",
    "sns.heatmap(correlation_matrix, annot=True, fmt='.2f', cmap='viridis', mask=mask, \n",
    "            square=True, linewidths=.5, cbar_kws={\"shrink\": .8})\n",
    "plt.title('Correlation Matrix Heatmap', fontsize=15)\n",
    "plt.tight_layout()\n",
    "plt.savefig('../docs/plots/correlation_heatmap.png', dpi=300, bbox_inches='tight')\n",
    "plt.show()\n",
    "\n",
    "print(\"Top features correlated with churn:\")\n",
    "print(correlation_with_target.head(5))"
   ]
  },
  {
   "cell_type": "markdown",
   "metadata": {},
   "source": [
    "## 11. Multivariate Analysis"
   ]
  },
  {
   "cell_type": "markdown",
   "metadata": {},
   "source": [
    "### 11.1 Age and Geography Interaction"
   ]
  },
  {
   "cell_type": "code",
   "execution_count": null,
   "metadata": {},
   "outputs": [],
   "source": [
    "# Analyze interaction between age and geography\n",
    "plt.figure(figsize=(14, 8))\n",
    "sns.boxplot(x='Geography', y='Age', hue='Exited', data=df_cleaned, palette='viridis')\n",
    "plt.title('Age Distribution by Geography and Churn Status', fontsize=15)\n",
    "plt.xlabel('Geography', fontsize=12)\n",
    "plt.ylabel('Age', fontsize=12)\n",
    "plt.legend(title='Exited', loc='upper right')\n",
    "plt.tight_layout()\n",
    "plt.savefig('../docs/plots/age_geography_interaction.png', dpi=300, bbox_inches='tight')\n",
    "plt.show()\n",
    "\n",
    "# Calculate churn rate by age group and geography\n",
    "age_geo_churn = df_cleaned.groupby(['AgeGroup', 'Geography'])['Exited'].mean() * 100\n",
    "age_geo_churn = age_geo_churn.unstack()\n",
    "print(\"Churn rate by age group and geography:\")\n",
    "print(age_geo_churn)\n",
    "\n",
    "# Visualize churn rate by age group and geography\n",
    "plt.figure(figsize=(14, 8))\n",
    "age_geo_churn.plot(kind='bar', figsize=(14, 8))\n",
    "plt.title('Churn Rate by Age Group and Geography', fontsize=15)\n",
    "plt.xlabel('Age Group', fontsize=12)\n",
    "plt.ylabel('Churn Rate (%)', fontsize=12)\n",
    "plt.legend(title='Geography')\n",
    "plt.grid(axis='y', linestyle='--', alpha=0.7)\n",
    "plt.tight_layout()\n",
    "plt.savefig('../docs/plots/churn_by_age_geography.png', dpi=300, bbox_inches='tight')\n",
    "plt.show()"
   ]
  },
  {
   "cell_type": "markdown",
   "metadata": {},
   "source": [
    "### 11.2 Age and Activity Status Interaction"
   ]
  },
  {
   "cell_type": "code",
   "execution_count": null,
   "metadata": {},
   "outputs": [],
   "source": [
    "# Analyze interaction between age and activity status\n",
    "plt.figure(figsize=(14, 8))\n",
    "sns.boxplot(x='IsActiveMember', y='Age', hue='Exited', data=df_cleaned, palette='viridis')\n",
    "plt.title('Age Distribution by Activity Status and Churn Status', fontsize=15)\n",
    "plt.xlabel('Is Active Member', fontsize=12)\n",
    "plt.ylabel('Age', fontsize=12)\n",
    "plt.legend(title='Exited', loc='upper right')\n",
    "plt.tight_layout()\n",
    "plt.savefig('../docs/plots/age_activity_interaction.png', dpi=300, bbox_inches='tight')\n",
    "plt.show()\n",
    "\n",
    "# Calculate churn rate by age group and activity status\n",
    "age_activity_churn = df_cleaned.groupby(['AgeGroup', 'IsActiveMember'])['Exited'].mean() * 100\n",
    "age_activity_churn = age_activity_churn.unstack()\n",
    "age_activity_churn.columns = ['Inactive', 'Active']\n",
    "print(\"Churn rate by age group and activity status:\")\n",
    "print(age_activity_churn)\n",
    "\n",
    "# Visualize churn rate by age group and activity status\n",
    "plt.figure(figsize=(14, 8))\n",
    "age_activity_churn.plot(kind='bar', figsize=(14, 8))\n",
    "plt.title('Churn Rate by Age Group and Activity Status', fontsize=15)\n",
    "plt.xlabel('Age Group', fontsize=12)\n",
    "plt.ylabel('Churn Rate (%)', fontsize=12)\n",
    "plt.legend(title='Activity Status')\n",
    "plt.grid(axis='y', linestyle='--', alpha=0.7)\n",
    "plt.tight_layout()\n",
    "plt.savefig('../docs/plots/churn_by_age_activity.png', dpi=300, bbox_inches='tight')\n",
    "plt.show()"
   ]
  },
  {
   "cell_type": "markdown",
   "metadata": {},
   "source": [
    "### 11.3 Products and Activity Status Interaction"
   ]
  },
  {
   "cell_type": "code",
   "execution_count": null,
   "metadata": {},
   "outputs": [],
   "source": [
    "# Analyze interaction between products and activity status\n",
    "plt.figure(figsize=(14, 8))\n",
    "product_activity_churn = df_cleaned.groupby(['NumOfProducts', 'IsActiveMember'])['Exited'].mean() * 100\n",
    "product_activity_churn = product_activity_churn.unstack()\n",
    "product_activity_churn.columns = ['Inactive', 'Active']\n",
    "print(\"Churn rate by number of products and activity status:\")\n",
    "print(product_activity_churn)\n",
    "\n",
    "# Visualize churn rate by number of products and activity status\n",
    "plt.figure(figsize=(14, 8))\n",
    "product_activity_churn.plot(kind='bar', figsize=(14, 8))\n",
    "plt.title('Churn Rate by Number of Products and Activity Status', fontsize=15)\n",
    "plt.xlabel('Number of Products', fontsize=12)\n",
    "plt.ylabel('Churn Rate (%)', fontsize=12)\n",
    "plt.legend(title='Activity Status')\n",
    "plt.grid(axis='y', linestyle='--', alpha=0.7)\n",
    "plt.tight_layout()\n",
    "plt.savefig('../docs/plots/churn_by_products_activity.png', dpi=300, bbox_inches='tight')\n",
    "plt.show()"
   ]
  },
  {
   "cell_type": "markdown",
   "metadata": {},
   "source": [
    "## 12. Balance Analysis"
   ]
  },
  {
   "cell_type": "code",
   "execution_count": null,
   "metadata": {},
   "outputs": [],
   "source": [
    "# Analyze balance distribution\n",
    "plt.figure(figsize=(14, 8))\n",
    "sns.histplot(data=df_cleaned, x='Balance', hue='Exited', kde=True, palette='viridis')\n",
    "plt.title('Balance Distribution by Churn Status', fontsize=15)\n",
    "plt.xlabel('Balance', fontsize=12)\n",
    "plt.ylabel('Frequency', fontsize=12)\n",
    "plt.tight_layout()\n",
    "plt.savefig('../docs/plots/balance_distribution.png', dpi=300, bbox_inches='tight')\n",
    "plt.show()\n",
    "\n",
    "# Create balance categories\n",
    "df_cleaned['BalanceCategory'] = pd.cut(\n",
    "    df_cleaned['Balance'], \n",
    "    bins=[-1, 0, 50000, 100000, 250000],\n",
    "    labels=['Zero', 'Low', 'Medium', 'High']\n",
    ")\n",
    "\n",
    "# Calculate churn rate by balance category\n",
    "balance_churn = df_cleaned.groupby('BalanceCategory')['Exited'].agg(['count', 'mean'])\n",
    "balance_churn['mean'] = balance_churn['mean'] * 100  # Convert to percentage\n",
    "balance_churn.columns = ['Count', 'Churn Rate (%)']  # Rename columns\n",
    "\n",
    "print(\"Churn rate by balance category:\")\n",
    "print(balance_churn)\n",
    "\n",
    "# Visualize churn rate by balance category\n",
    "plt.figure(figsize=(12, 6))\n",
    "ax = sns.barplot(x=balance_churn.index, y='Churn Rate (%)', data=balance_churn, palette='viridis')\n",
    "plt.title('Churn Rate by Balance Category', fontsize=15)\n",
    "plt.xlabel('Balance Category', fontsize=12)\n",
    "plt.ylabel('Churn Rate (%)', fontsize=12)\n",
    "\n",
    "# Add value labels\n",
    "for i, v in enumerate(balance_churn['Churn Rate (%)']):\n",
    "    ax.text(i, v + 1, f\"{v:.1f}%\", ha='center', fontsize=12)\n",
    "\n",
    "plt.tight_layout()\n",
    "plt.savefig('../docs/plots/churn_by_balance.png', dpi=300, bbox_inches='tight')\n",
    "plt.show()"
   ]
  },
  {
   "cell_type": "markdown",
   "metadata": {},
   "source": [
    "## 13. Key Insights Summary"
   ]
  },
  {
   "cell_type": "code",
   "execution_count": null,
   "metadata": {},
   "outputs": [],
   "source": [
    "# Document key insights\n",
    "print(\"Key Insights Summary:\")\n",
    "print(\"\\n1. Overall Churn Rate:\")\n",
    "print(f\"   - The overall churn rate is {churn_percentage[1]:.2f}%\")\n",
    "\n",
    "print(\"\\n2. Key Factors Influencing Churn:\")\n",
    "print(\"   - Age: Older customers (especially 50-60 age group) have higher churn rates\")\n",
    "print(\"   - Geography: German customers have the highest churn rate (32.4%)\")\n",
    "print(\"   - Products: Customers with 3-4 products have extremely high churn rates (82.7%)\")\n",
    "print(\"   - Activity: Inactive customers have higher churn rates (26.9% vs 14.3%)\")\n",
    "print(\"   - Balance: Zero balance accounts have higher churn rates\")\n",
    "\n",
    "print(\"\\n3. Interesting Interactions:\")\n",
    "print(\"   - Inactive seniors have the highest churn risk\")\n",
    "print(\"   - German customers in the 50-60 age group have particularly high churn rates\")\n",
    "print(\"   - Inactive customers with 3-4 products have extremely high churn rates\")\n",
    "\n",
    "print(\"\\n4. Business Implications and Recommendations:\")\n",
    "print(\"   - Focus retention efforts on high-risk segments: older customers, German customers, inactive customers\")\n",
    "print(\"   - Review product offerings for customers with 3-4 products to address high churn\")\n",
    "print(\"   - Develop targeted engagement strategies for inactive customers\")\n",
    "print(\"   - Consider special loyalty programs for customers in the 50-60 age group\")\n",
    "print(\"   - Investigate reasons for high churn in Germany\")"
   ]
  },
  {
   "cell_type": "markdown",
   "metadata": {},
   "source": [
    "## 14. Save Key Insights"
   ]
  },
  {
   "cell_type": "code",
   "execution_count": null,
   "metadata": {},
   "outputs": [],
   "source": [
    "# Save key insights to JSON\n",
    "import json\n",
    "\n",
    "key_insights = {\n",
    "    \"overall_churn_rate\": float(f\"{churn_percentage[1]:.2f}\"),\n",
    "    \"key_factors\": {\n",
    "        \"age\": \"Older customers (especially 50-60 age group) have higher churn rates\",\n",
    "        \"geography\": \"German customers have the highest churn rate (32.4%)\",\n",
    "        \"products\": \"Customers with 3-4 products have extremely high churn rates (82.7%)\",\n",
    "        \"activity\": \"Inactive customers have higher churn rates (26.9% vs 14.3%)\",\n",
    "        \"balance\": \"Zero balance accounts have higher churn rates\"\n",
    "    },\n",
    "    \"key_interactions\": {\n",
    "        \"age_activity\": \"Inactive seniors have the highest churn risk\",\n",
    "        \"age_geography\": \"German customers in the 50-60 age group have particularly high churn rates\",\n",
    "        \"products_activity\": \"Inactive customers with 3-4 products have extremely high churn rates\"\n",
    "    },\n",
    "    \"recommendations\": [\n",
    "        \"Focus retention efforts on high-risk segments: older customers, German customers, inactive customers\",\n",
    "        \"Review product offerings for customers with 3-4 products to address high churn\",\n",
    "        \"Develop targeted engagement strategies for inactive customers\",\n",
    "        \"Consider special loyalty programs for customers in the 50-60 age group\",\n",
    "        \"Investigate reasons for high churn in Germany\"\n",
    "    ]\n",
    "}\n",
    "\n",
    "# Save to JSON file\n",
    "with open('../data/insights/churn_insights.json', 'w') as f:\n",
    "    json.dump(key_insights, f, indent=4)\n",
    "\n",
    "print(\"Key insights saved to '../data/insights/churn_insights.json'\")"
   ]
  },
  {
   "cell_type": "markdown",
   "metadata": {},
   "source": [
    "## 15. Conclusion"
   ]
  },
  {
   "cell_type": "code",
   "execution_count": null,
   "metadata": {},
   "outputs": [],
   "source": [
    "# Conclusion\n",
    "print(\"Conclusion:\")\n",
    "print(\"This exploratory data analysis has identified several key factors that influence customer churn:\")\n",
    "print(\"1. Demographic factors: Age and geography are significant predictors of churn\")\n",
    "print(\"2. Engagement factors: Activity status strongly influences churn probability\")\n",
    "print(\"3. Product usage: Number of products shows a non-linear relationship with churn\")\n",
    "print(\"4. Financial factors: Balance patterns reveal interesting churn tendencies\")\n",
    "print(\"\\nThese insights provide a foundation for developing targeted retention strategies and will inform the feature engineering and modeling phases of this project.\")"
   ]
  }
 ],
 "metadata": {
  "kernelspec": {
   "display_name": "Python 3",
   "language": "python",
   "name": "python3"
  },
  "language_info": {
   "codemirror_mode": {
    "name": "ipython",
    "version": 3
   },
   "file_extension": ".py",
   "mimetype": "text/x-python",
   "name": "python",
   "nbconvert_exporter": "python",
   "pygments_lexer": "ipython3",
   "version": "3.12.8"
  }
 },
 "nbformat": 4,
 "nbformat_minor": 4
}
