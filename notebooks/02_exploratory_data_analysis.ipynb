{
 "cells": [
  {
   "cell_type": "markdown",
   "metadata": {},
   "source": [
    "# Customer Churn Prediction - Exploratory Data Analysis\n",
    "\n",
    "This notebook performs exploratory data analysis on the bank customer churn dataset to identify patterns and relationships between features and customer churn."
   ]
  },
  {
   "cell_type": "code",
   "execution_count": null,
   "metadata": {},
   "source": [
    "# Import necessary libraries\n",
    "import pandas as pd\n",
    "import numpy as np\n",
    "import matplotlib.pyplot as plt\n",
    "import seaborn as sns\n",
    "import os\n",
    "import sys\n",
    "from scipy import stats\n",
    "\n",
    "# Set up plotting\n",
    "%matplotlib inline\n",
    "plt.style.use('seaborn-whitegrid')\n",
    "sns.set_style('whitegrid')\n",
    "plt.rcParams['figure.figsize'] = (12, 8)"
   ]
  },
  {
   "cell_type": "markdown",
   "metadata": {},
   "source": [
    "## 1. Load the Processed Data"
   ]
  },
  {
   "cell_type": "code",
   "execution_count": null,
   "metadata": {},
   "source": [
    "# Define file paths\n",
    "CLEANED_DATA_PATH = '../data/cleaned/churn_cleaned.csv'\n",
    "PROCESSED_DATA_PATH = '../data/processed/churn_processed.csv'\n",
    "\n",
    "# Load the cleaned data (with categorical variables)\n",
    "df_cleaned = pd.read_csv(CLEANED_DATA_PATH)\n",
    "print(f\"Cleaned dataset shape: {df_cleaned.shape}\")\n",
    "df_cleaned.head()"
   ]
  },
  {
   "cell_type": "code",
   "execution_count": null,
   "metadata": {},
   "source": [
    "# Load the processed data (with encoded categorical variables)\n",
    "df_processed = pd.read_csv(PROCESSED_DATA_PATH)\n",
    "print(f\"Processed dataset shape: {df_processed.shape}\")\n",
    "df_processed.head()"
   ]
  },
  {
   "cell_type": "markdown",
   "metadata": {},
   "source": [
    "## 2. Target Variable Analysis"
   ]
  },
  {
   "cell_type": "code",
   "execution_count": null,
   "metadata": {},
   "source": [
    "# Analyze the distribution of the target variable\n",
    "churn_counts = df_cleaned['Exited'].value_counts()\n",
    "churn_percentages = df_cleaned['Exited'].value_counts(normalize=True) * 100\n",
    "\n",
    "print(\"Churn Distribution:\")\n",
    "print(churn_counts)\n",
    "print(\"\\nChurn Percentages:\")\n",
    "print(churn_percentages)"
   ]
  },
  {
   "cell_type": "code",
   "execution_count": null,
   "metadata": {},
   "source": [
    "# Visualize the target variable distribution\n",
    "plt.figure(figsize=(10, 6))\n",
    "ax = sns.countplot(x='Exited', data=df_cleaned)\n",
    "\n",
    "# Add count and percentage labels\n",
    "for i, p in enumerate(ax.patches):\n",
    "    height = p.get_height()\n",
    "    ax.text(p.get_x() + p.get_width()/2., height + 100, f'{height}\\n({churn_percentages[i]:.1f}%)', \n",
    "            ha=\"center\", fontsize=12)\n",
    "\n",
    "plt.title('Customer Churn Distribution', fontsize=15)\n",
    "plt.xlabel('Churned (1) vs Not Churned (0)', fontsize=12)\n",
    "plt.ylabel('Count', fontsize=12)\n",
    "plt.ylim(0, max(churn_counts) * 1.15)  # Add some space for the labels\n",
    "plt.show()"
   ]
  },
  {
   "cell_type": "markdown",
   "metadata": {},
   "source": [
    "## 3. Univariate Analysis"
   ]
  },
  {
   "cell_type": "code",
   "execution_count": null,
   "metadata": {},
   "source": [
    "# Analyze categorical variables\n",
    "categorical_cols = ['Geography', 'Gender']\n",
    "\n",
    "for col in categorical_cols:\n",
    "    plt.figure(figsize=(10, 6))\n",
    "    \n",
    "    # Count plot\n",
    "    ax = sns.countplot(x=col, data=df_cleaned)\n",
    "    \n",
    "    # Add count and percentage labels\n",
    "    total = len(df_cleaned[col])\n",
    "    for i, p in enumerate(ax.patches):\n",
    "        height = p.get_height()\n",
    "        percentage = 100 * height / total\n",
    "        ax.text(p.get_x() + p.get_width()/2., height + 50, f'{height}\\n({percentage:.1f}%)', \n",
    "                ha=\"center\", fontsize=12)\n",
    "    \n",
    "    plt.title(f'Distribution of {col}', fontsize=15)\n",
    "    plt.xlabel(col, fontsize=12)\n",
    "    plt.ylabel('Count', fontsize=12)\n",
    "    plt.ylim(0, df_cleaned[col].value_counts().max() * 1.15)  # Add some space for the labels\n",
    "    plt.show()"
   ]
  },
  {
   "cell_type": "code",
   "execution_count": null,
   "metadata": {},
   "source": [
    "# Analyze numerical variables\n",
    "numerical_cols = df_cleaned.select_dtypes(include=['int64', 'float64']).columns\n",
    "numerical_cols = [col for col in numerical_cols if col != 'Exited']\n",
    "\n",
    "# Create histograms for numerical variables\n",
    "for col in numerical_cols:\n",
    "    plt.figure(figsize=(12, 5))\n",
    "    \n",
    "    # Histogram\n",
    "    plt.subplot(1, 2, 1)\n",
    "    sns.histplot(df_cleaned[col], kde=True)\n",
    "    plt.title(f'Distribution of {col}')\n",
    "    \n",
    "    # Box plot\n",
    "    plt.subplot(1, 2, 2)\n",
    "    sns.boxplot(x=df_cleaned[col])\n",
    "    plt.title(f'Box Plot of {col}')\n",
    "    \n",
    "    plt.tight_layout()\n",
    "    plt.show()\n",
    "    \n",
    "    # Print descriptive statistics\n",
    "    print(f\"\\nDescriptive Statistics for {col}:\")\n",
    "    print(df_cleaned[col].describe())"
   ]
  },
  {
   "cell_type": "markdown",
   "metadata": {},
   "source": [
    "## 4. Bivariate Analysis with Target Variable"
   ]
  },
  {
   "cell_type": "code",
   "execution_count": null,
   "metadata": {},
   "source": [
    "# Analyze categorical variables vs target\n",
    "for col in categorical_cols:\n",
    "    plt.figure(figsize=(12, 6))\n",
    "    \n",
    "    # Count plot with hue\n",
    "    ax = sns.countplot(x=col, hue='Exited', data=df_cleaned)\n",
    "    \n",
    "    # Add percentage labels\n",
    "    for p in ax.patches:\n",
    "        height = p.get_height()\n",
    "        ax.text(p.get_x() + p.get_width()/2., height + 20, f'{height}', \n",
    "                ha=\"center\", fontsize=10)\n",
    "    \n",
    "    plt.title(f'Churn by {col}', fontsize=15)\n",
    "    plt.xlabel(col, fontsize=12)\n",
    "    plt.ylabel('Count', fontsize=12)\n",
    "    plt.legend(title='Churned')\n",
    "    plt.show()\n",
    "    \n",
    "    # Calculate and display churn rate by category\n",
    "    churn_rate = df_cleaned.groupby(col)['Exited'].mean() * 100\n",
    "    print(f\"\\nChurn Rate by {col}:\")\n",
    "    print(churn_rate)\n",
    "    \n",
    "    # Visualize churn rate\n",
    "    plt.figure(figsize=(10, 6))\n",
    "    ax = sns.barplot(x=churn_rate.index, y=churn_rate.values)\n",
    "    \n",
    "    # Add percentage labels\n",
    "    for i, p in enumerate(ax.patches):\n",
    "        ax.text(p.get_x() + p.get_width()/2., p.get_height() + 0.5, f'{churn_rate.values[i]:.1f}%', \n",
    "                ha=\"center\", fontsize=12)\n",
    "    \n",
    "    plt.title(f'Churn Rate by {col}', fontsize=15)\n",
    "    plt.xlabel(col, fontsize=12)\n",
    "    plt.ylabel('Churn Rate (%)', fontsize=12)\n",
    "    plt.ylim(0, max(churn_rate.values) * 1.1)  # Add some space for the labels\n",
    "    plt.show()"
   ]
  },
  {
   "cell_type": "code",
   "execution_count": null,
   "metadata": {},
   "source": [
    "# Analyze numerical variables vs target\n",
    "for col in numerical_cols:\n",
    "    plt.figure(figsize=(12, 5))\n",
    "    \n",
    "    # Box plot\n",
    "    plt.subplot(1, 2, 1)\n",
    "    sns.boxplot(x='Exited', y=col, data=df_cleaned)\n",
    "    plt.title(f'{col} by Churn Status')\n",
    "    \n",
    "    # Violin plot\n",
    "    plt.subplot(1, 2, 2)\n",
    "    sns.violinplot(x='Exited', y=col, data=df_cleaned)\n",
    "    plt.title(f'Distribution of {col} by Churn Status')\n",
    "    \n",
    "    plt.tight_layout()\n",
    "    plt.show()\n",
    "    \n",
    "    # Calculate and display statistics by churn status\n",
    "    print(f\"\\nStatistics for {col} by Churn Status:\")\n",
    "    print(df_cleaned.groupby('Exited')[col].describe())\n",
    "    \n",
    "    # Perform t-test to check if the difference is statistically significant\n",
    "    churned = df_cleaned[df_cleaned['Exited'] == 1][col]\n",
    "    not_churned = df_cleaned[df_cleaned['Exited'] == 0][col]\n",
    "    t_stat, p_val = stats.ttest_ind(churned, not_churned, equal_var=False)\n",
    "    print(f\"\\nT-test for {col}: t-statistic = {t_stat:.4f}, p-value = {p_val:.4f}\")\n",
    "    if p_val < 0.05:\n",
    "        print(f\"The difference in {col} between churned and non-churned customers is statistically significant.\")\n",
    "    else:\n",
    "        print(f\"The difference in {col} between churned and non-churned customers is not statistically significant.\")"
   ]
  },
  {
   "cell_type": "markdown",
   "metadata": {},
   "source": [
    "## 5. Multivariate Analysis"
   ]
  },
  {
   "cell_type": "code",
   "execution_count": null,
   "metadata": {},
   "source": [
    "# Correlation matrix\n",
    "plt.figure(figsize=(14, 10))\n",
    "correlation_matrix = df_processed.corr()\n",
    "mask = np.triu(correlation_matrix)\n",
    "sns.heatmap(correlation_matrix, annot=True, cmap='coolwarm', fmt='.2f', mask=mask)\n",
    "plt.title('Correlation Matrix', fontsize=15)\n",
    "plt.tight_layout()\n",
    "plt.show()"
   ]
  },
  {
   "cell_type": "code",
   "execution_count": null,
   "metadata": {},
   "source": [
    "# Correlation with target variable\n",
    "target_corr = correlation_matrix['Exited'].sort_values(ascending=False)\n",
    "print(\"Correlation with Target Variable (Exited):\")\n",
    "print(target_corr)"
   ]
  },
  {
   "cell_type": "code",
   "execution_count": null,
   "metadata": {},
   "source": [
    "# Visualize correlation with target\n",
    "plt.figure(figsize=(12, 8))\n",
    "target_corr = target_corr.drop('Exited')  # Remove self-correlation\n",
    "sns.barplot(x=target_corr.values, y=target_corr.index)\n",
    "plt.title('Feature Correlation with Churn', fontsize=15)\n",
    "plt.xlabel('Correlation Coefficient', fontsize=12)\n",
    "plt.axvline(x=0, color='black', linestyle='--')\n",
    "plt.tight_layout()\n",
    "plt.show()"
   ]
  },
  {
   "cell_type": "code",
   "execution_count": null,
   "metadata": {},
   "source": [
    "# Analyze interactions between key numerical variables\n",
    "plt.figure(figsize=(15, 10))\n",
    "sns.pairplot(df_cleaned, hue='Exited', vars=['Age', 'Balance', 'CreditScore', 'Tenure'], diag_kind='kde')\n",
    "plt.suptitle('Pairplot of Key Numerical Variables by Churn Status', y=1.02, fontsize=16)\n",
    "plt.tight_layout()\n",
    "plt.show()"
   ]
  },
  {
   "cell_type": "markdown",
   "metadata": {},
   "source": [
    "## 6. Age and Geography Analysis"
   ]
  },
  {
   "cell_type": "code",
   "execution_count": null,
   "metadata": {},
   "source": [
    "# Analyze Age distribution by Geography\n",
    "plt.figure(figsize=(14, 6))\n",
    "sns.boxplot(x='Geography', y='Age', hue='Exited', data=df_cleaned)\n",
    "plt.title('Age Distribution by Geography and Churn Status', fontsize=15)\n",
    "plt.xlabel('Geography', fontsize=12)\n",
    "plt.ylabel('Age', fontsize=12)\n",
    "plt.legend(title='Churned')\n",
    "plt.show()"
   ]
  },
  {
   "cell_type": "code",
   "execution_count": null,
   "metadata": {},
   "source": [
    "# Create age groups\n",
    "df_cleaned['AgeGroup'] = pd.cut(df_cleaned['Age'], bins=[0, 30, 40, 50, 60, 100], \n",
    "                              labels=['<30', '30-40', '40-50', '50-60', '>60'])\n",
    "\n",
    "# Analyze churn rate by age group\n",
    "age_churn = df_cleaned.groupby('AgeGroup')['Exited'].mean() * 100\n",
    "print(\"Churn Rate by Age Group:\")\n",
    "print(age_churn)\n",
    "\n",
    "plt.figure(figsize=(12, 6))\n",
    "ax = sns.barplot(x=age_churn.index, y=age_churn.values)\n",
    "\n",
    "# Add percentage labels\n",
    "for i, p in enumerate(ax.patches):\n",
    "    ax.text(p.get_x() + p.get_width()/2., p.get_height() + 0.5, f'{age_churn.values[i]:.1f}%', \n",
    "            ha=\"center\", fontsize=12)\n",
    "\n",
    "plt.title('Churn Rate by Age Group', fontsize=15)\n",
    "plt.xlabel('Age Group', fontsize=12)\n",
    "plt.ylabel('Churn Rate (%)', fontsize=12)\n",
    "plt.ylim(0, max(age_churn.values) * 1.1)  # Add some space for the labels\n",
    "plt.show()"
   ]
  },
  {
   "cell_type": "code",
   "execution_count": null,
   "metadata": {},
   "source": [
    "# Analyze churn rate by age group and geography\n",
    "age_geo_churn = df_cleaned.groupby(['AgeGroup', 'Geography'])['Exited'].mean() * 100\n",
    "age_geo_churn = age_geo_churn.unstack()\n",
    "print(\"Churn Rate by Age Group and Geography:\")\n",
    "print(age_geo_churn)\n",
    "\n",
    "plt.figure(figsize=(14, 8))\n",
    "age_geo_churn.plot(kind='bar')\n",
    "plt.title('Churn Rate by Age Group and Geography', fontsize=15)\n",
    "plt.xlabel('Age Group', fontsize=12)\n",
    "plt.ylabel('Churn Rate (%)', fontsize=12)\n",
    "plt.legend(title='Geography')\n",
    "plt.xticks(rotation=45)\n",
    "plt.tight_layout()\n",
    "plt.show()"
   ]
  },
  {
   "cell_type": "markdown",
   "metadata": {},
   "source": [
    "## 7. Balance and Product Analysis"
   ]
  },
  {
   "cell_type": "code",
   "execution_count": null,
   "metadata": {},
   "source": [
    "# Create balance groups\n",
    "df_cleaned['BalanceGroup'] = pd.qcut(df_cleaned['Balance'], q=4, labels=['Low', 'Medium-Low', 'Medium-High', 'High'])\n",
    "\n",
    "# Analyze churn rate by balance group\n",
    "balance_churn = df_cleaned.groupby('BalanceGroup')['Exited'].mean() * 100\n",
    "print(\"Churn Rate by Balance Group:\")\n",
    "print(balance_churn)\n",
    "\n",
    "plt.figure(figsize=(12, 6))\n",
    "ax = sns.barplot(x=balance_churn.index, y=balance_churn.values)\n",
    "\n",
    "# Add percentage labels\n",
    "for i, p in enumerate(ax.patches):\n",
    "    ax.text(p.get_x() + p.get_width()/2., p.get_height() + 0.5, f'{balance_churn.values[i]:.1f}%', \n",
    "            ha=\"center\", fontsize=12)\n",
    "\n",
    "plt.title('Churn Rate by Balance Group', fontsize=15)\n",
    "plt.xlabel('Balance Group', fontsize=12)\n",
    "plt.ylabel('Churn Rate (%)', fontsize=12)\n",
    "plt.ylim(0, max(balance_churn.values) * 1.1)  # Add some space for the labels\n",
    "plt.show()"
   ]
  },
  {
   "cell_type": "code",
   "execution_count": null,
   "metadata": {},
   "source": [
    "# Analyze churn rate by number of products\n",
    "product_churn = df_cleaned.groupby('NumOfProducts')['Exited'].mean() * 100\n",
    "print(\"Churn Rate by Number of Products:\")\n",
    "print(product_churn)\n",
    "\n",
    "plt.figure(figsize=(12, 6))\n",
    "ax = sns.barplot(x=product_churn.index, y=product_churn.values)\n",
    "\n",
    "# Add percentage labels\n",
    "for i, p in enumerate(ax.patches):\n",
    "    ax.text(p.get_x() + p.get_width()/2., p.get_height() + 0.5, f'{product_churn.values[i]:.1f}%', \n",
    "            ha=\"center\", fontsize=12)\n",
    "\n",
    "plt.title('Churn Rate by Number of Products', fontsize=15)\n",
    "plt.xlabel('Number of Products', fontsize=12)\n",
    "plt.ylabel('Churn Rate (%)', fontsize=12)\n",
    "plt.ylim(0, max(product_churn.values) * 1.1)  # Add some space for the labels\n",
    "plt.show()"
   ]
  },
  {
   "cell_type": "code",
   "execution_count": null,
   "metadata": {},
   "source": [
    "# Analyze interaction between balance and number of products\n",
    "plt.figure(figsize=(14, 8))\n",
    "sns.boxplot(x='NumOfProducts', y='Balance', hue='Exited', data=df_cleaned)\n",
    "plt.title('Balance Distribution by Number of Products and Churn Status', fontsize=15)\n",
    "plt.xlabel('Number of Products', fontsize=12)\n",
    "plt.ylabel('Balance', fontsize=12)\n",
    "plt.legend(title='Churned')\n",
    "plt.show()"
   ]
  },
  {
   "cell_type": "m
(Content truncated due to size limit. Use line ranges to read in chunks)