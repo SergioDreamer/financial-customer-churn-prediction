{
 "cells": [
  {
   "cell_type": "markdown",
   "metadata": {},
   "source": [
    "# Customer Churn Prediction - Feature Engineering\n",
    "\n",
    "This notebook implements feature engineering for the bank customer churn prediction model based on insights from exploratory data analysis."
   ]
  },
  {
   "cell_type": "code",
   "execution_count": null,
   "metadata": {},
   "source": [
    "# Import necessary libraries\n",
    "import pandas as pd\n",
    "import numpy as np\n",
    "import matplotlib.pyplot as plt\n",
    "import seaborn as sns\n",
    "import os\n",
    "import sys\n",
    "from sklearn.preprocessing import StandardScaler, MinMaxScaler\n",
    "from sklearn.feature_selection import SelectKBest, f_classif, mutual_info_classif, chi2\n",
    "\n",
    "# Add the src directory to the path to import custom modules\n",
    "sys.path.append('../')\n",
    "from src.features.feature_engineering import (\n",
    "    create_transaction_features,\n",
    "    create_product_usage_metrics,\n",
    "    create_engagement_scores,\n",
    "    create_tenure_features,\n",
    "    create_digital_banking_features,\n",
    "    select_features\n",
    ")\n",
    "\n",
    "# Set up plotting\n",
    "%matplotlib inline\n",
    "plt.style.use('seaborn-whitegrid')\n",
    "sns.set_style('whitegrid')\n",
    "plt.rcParams['figure.figsize'] = (12, 8)"
   ]
  },
  {
   "cell_type": "markdown",
   "metadata": {},
   "source": [
    "## 1. Load the Processed Data"
   ]
  },
  {
   "cell_type": "code",
   "execution_count": null,
   "metadata": {},
   "source": [
    "# Define file paths\n",
    "CLEANED_DATA_PATH = '../data/cleaned/churn_cleaned.csv'\n",
    "PROCESSED_DATA_PATH = '../data/processed/churn_processed.csv'\n",
    "ENGINEERED_DATA_PATH = '../data/processed/churn_engineered.csv'\n",
    "\n",
    "# Load the cleaned data (with categorical variables)\n",
    "df_cleaned = pd.read_csv(CLEANED_DATA_PATH)\n",
    "print(f\"Cleaned dataset shape: {df_cleaned.shape}\")\n",
    "df_cleaned.head()"
   ]
  },
  {
   "cell_type": "code",
   "execution_count": null,
   "metadata": {},
   "source": [
    "# Load the processed data (with encoded categorical variables)\n",
    "df_processed = pd.read_csv(PROCESSED_DATA_PATH)\n",
    "print(f\"Processed dataset shape: {df_processed.shape}\")\n",
    "df_processed.head()"
   ]
  },
  {
   "cell_type": "markdown",
   "metadata": {},
   "source": [
    "## 2. Create Age-Related Features\n",
    "\n",
    "From our EDA, we found that age is one of the strongest predictors of churn, with older customers more likely to churn."
   ]
  },
  {
   "cell_type": "code",
   "execution_count": null,
   "metadata": {},
   "source": [
    "# Create age group feature\n",
    "df_engineered = df_processed.copy()\n",
    "\n",
    "# Create age bins\n",
    "df_engineered['AgeGroup'] = pd.cut(df_engineered['Age'], bins=[0, 30, 40, 50, 60, 100], \n",
    "                                 labels=[0, 1, 2, 3, 4])\n",
    "df_engineered['AgeGroup'] = df_engineered['AgeGroup'].astype(int)\n",
    "\n",
    "# Create age-related dummy variables\n",
    "df_engineered['IsYoung'] = (df_engineered['Age'] < 30).astype(int)\n",
    "df_engineered['IsMiddleAged'] = ((df_engineered['Age'] >= 30) & (df_engineered['Age'] < 50)).astype(int)\n",
    "df_engineered['IsSenior'] = (df_engineered['Age'] >= 50).astype(int)\n",
    "\n",
    "# Create retirement age indicator (assuming retirement age of 65)\n",
    "df_engineered['IsRetirementAge'] = (df_engineered['Age'] >= 65).astype(int)\n",
    "\n",
    "# Display the new features\n",
    "age_features = ['Age', 'AgeGroup', 'IsYoung', 'IsMiddleAged', 'IsSenior', 'IsRetirementAge']\n",
    "df_engineered[age_features].head(10)"
   ]
  },
  {
   "cell_type": "markdown",
   "metadata": {},
   "source": [
    "## 3. Create Geography-Related Features\n",
    "\n",
    "Our EDA showed that geography has a significant impact on churn, with German customers having much higher churn rates."
   ]
  },
  {
   "cell_type": "code",
   "execution_count": null,
   "metadata": {},
   "source": [
    "# Create interaction features between geography and other important variables\n",
    "df_engineered['GermanyXAge'] = df_engineered['Geography_Germany'] * df_engineered['Age']\n",
    "df_engineered['GermanyXBalance'] = df_engineered['Geography_Germany'] * df_engineered['Balance']\n",
    "df_engineered['GermanyXSenior'] = df_engineered['Geography_Germany'] * df_engineered['IsSenior']\n",
    "\n",
    "# Display the new features\n",
    "geo_features = ['Geography_Germany', 'Geography_Spain', 'GermanyXAge', 'GermanyXBalance', 'GermanyXSenior']\n",
    "df_engineered[geo_features].head(10)"
   ]
  },
  {
   "cell_type": "markdown",
   "metadata": {},
   "source": [
    "## 4. Create Balance-Related Features\n",
    "\n",
    "Our EDA showed that balance is an important factor, with customers having zero balance showing different churn patterns."
   ]
  },
  {
   "cell_type": "code",
   "execution_count": null,
   "metadata": {},
   "source": [
    "# Create balance-related features\n",
    "df_engineered['HasZeroBalance'] = (df_engineered['Balance'] == 0).astype(int)\n",
    "df_engineered['BalanceToSalaryRatio'] = df_engineered['Balance'] / (df_engineered['EstimatedSalary'] + 1)  # Adding 1 to avoid division by zero\n",
    "\n",
    "# Create balance quartiles\n",
    "df_engineered['BalanceQuartile'] = pd.qcut(df_engineered['Balance'].rank(method='first'), 4, labels=[0, 1, 2, 3]).astype(int)\n",
    "\n",
    "# Create high balance indicator\n",
    "high_balance_threshold = df_engineered['Balance'].quantile(0.75)\n",
    "df_engineered['HasHighBalance'] = (df_engineered['Balance'] > high_balance_threshold).astype(int)\n",
    "\n",
    "# Display the new features\n",
    "balance_features = ['Balance', 'HasZeroBalance', 'BalanceToSalaryRatio', 'BalanceQuartile', 'HasHighBalance']\n",
    "df_engineered[balance_features].head(10)"
   ]
  },
  {
   "cell_type": "markdown",
   "metadata": {},
   "source": [
    "## 5. Create Product-Related Features\n",
    "\n",
    "Our EDA showed that customers with 3 or 4 products have much higher churn rates."
   ]
  },
  {
   "cell_type": "code",
   "execution_count": null,
   "metadata": {},
   "source": [
    "# Create product-related features\n",
    "df_engineered['HasMultipleProducts'] = (df_engineered['NumOfProducts'] > 1).astype(int)\n",
    "df_engineered['HasManyProducts'] = (df_engineered['NumOfProducts'] >= 3).astype(int)\n",
    "\n",
    "# Create product-related interaction features\n",
    "df_engineered['ProductsXAge'] = df_engineered['NumOfProducts'] * df_engineered['Age']\n",
    "df_engineered['ProductsXBalance'] = df_engineered['NumOfProducts'] * df_engineered['Balance']\n",
    "df_engineered['ProductsXTenure'] = df_engineered['NumOfProducts'] * df_engineered['Tenure']\n",
    "\n",
    "# Display the new features\n",
    "product_features = ['NumOfProducts', 'HasMultipleProducts', 'HasManyProducts', \n",
    "                    'ProductsXAge', 'ProductsXBalance', 'ProductsXTenure']\n",
    "df_engineered[product_features].head(10)"
   ]
  },
  {
   "cell_type": "markdown",
   "metadata": {},
   "source": [
    "## 6. Create Tenure-Related Features\n",
    "\n",
    "Our EDA showed a U-shaped relationship between tenure and churn, with both new and long-term customers having higher churn rates."
   ]
  },
  {
   "cell_type": "code",
   "execution_count": null,
   "metadata": {},
   "source": [
    "# Create tenure-related features\n",
    "df_engineered['IsNewCustomer'] = (df_engineered['Tenure'] <= 1).astype(int)\n",
    "df_engineered['IsLongTermCustomer'] = (df_engineered['Tenure'] >= 8).astype(int)\n",
    "\n",
    "# Create tenure groups\n",
    "df_engineered['TenureGroup'] = pd.cut(df_engineered['Tenure'], bins=[-1, 1, 3, 5, 7, 10], \n",
    "                                    labels=[0, 1, 2, 3, 4]).astype(int)\n",
    "\n",
    "# Create tenure-squared to capture non-linear relationship\n",
    "df_engineered['TenureSquared'] = df_engineered['Tenure'] ** 2\n",
    "\n",
    "# Create customer lifetime value proxy\n",
    "df_engineered['CustomerValue'] = df_engineered['Tenure'] * df_engineered['Balance'] / 1000\n",
    "\n",
    "# Display the new features\n",
    "tenure_features = ['Tenure', 'IsNewCustomer', 'IsLongTermCustomer', 'TenureGroup', \n",
    "                   'TenureSquared', 'CustomerValue']\n",
    "df_engineered[tenure_features].head(10)"
   ]
  },
  {
   "cell_type": "markdown",
   "metadata": {},
   "source": [
    "## 7. Create Engagement-Related Features\n",
    "\n",
    "Our EDA showed that active membership is a strong predictor of churn."
   ]
  },
  {
   "cell_type": "code",
   "execution_count": null,
   "metadata": {},
   "source": [
    "# Create engagement score\n",
    "df_engineered['EngagementScore'] = df_engineered['IsActiveMember'] * 0.5 + df_engineered['HasCrCard'] * 0.3 + \\\n",
    "                                 (df_engineered['NumOfProducts'] / 4) * 0.2\n",
    "\n",
    "# Create interaction features\n",
    "df_engineered['ActiveXTenure'] = df_engineered['IsActiveMember'] * df_engineered['Tenure']\n",
    "df_engineered['ActiveXProducts'] = df_engineered['IsActiveMember'] * df_engineered['NumOfProducts']\n",
    "df_engineered['ActiveXAge'] = df_engineered['IsActiveMember'] * df_engineered['Age']\n",
    "\n",
    "# Create inactive senior indicator\n",
    "df_engineered['InactiveSenior'] = ((df_engineered['IsActiveMember'] == 0) & (df_engineered['IsSenior'] == 1)).astype(int)\n",
    "\n",
    "# Display the new features\n",
    "engagement_features = ['IsActiveMember', 'HasCrCard', 'EngagementScore', 'ActiveXTenure', \n",
    "                       'ActiveXProducts', 'ActiveXAge', 'InactiveSenior']\n",
    "df_engineered[engagement_features].head(10)"
   ]
  },
  {
   "cell_type": "markdown",
   "metadata": {},
   "source": [
    "## 8. Create Risk Score Features\n",
    "\n",
    "Based on our EDA, we can create composite risk scores that combine multiple risk factors."
   ]
  },
  {
   "cell_type": "code",
   "execution_count": null,
   "metadata": {},
   "source": [
    "# Create churn risk score based on key factors identified in EDA\n",
    "df_engineered['ChurnRiskScore'] = \\\n",
    "    df_engineered['IsSenior'] * 0.25 + \\\n",
    "    df_engineered['Geography_Germany'] * 0.20 + \\\n",
    "    (1 - df_engineered['IsActiveMember']) * 0.25 + \\\n",
    "    df_engineered['HasManyProducts'] * 0.20 + \\\n",
    "    (df_engineered['Gender_Male'] == 0).astype(int) * 0.10\n",
    "\n",
    "# Create demographic risk score\n",
    "df_engineered['DemographicRiskScore'] = \\\n",
    "    df_engineered['IsSenior'] * 0.4 + \\\n",
    "    df_engineered['Geography_Germany'] * 0.4 + \\\n",
    "    (df_engineered['Gender_Male'] == 0).astype(int) * 0.2\n",
    "\n",
    "# Create product risk score\n",
    "df_engineered['ProductRiskScore'] = \\\n",
    "    df_engineered['HasManyProducts'] * 0.5 + \\\n",
    "    (1 - df_engineered['IsActiveMember']) * 0.3 + \\\n",
    "    (1 - df_engineered['HasCrCard']) * 0.2\n",
    "\n",
    "# Display the new features\n",
    "risk_features = ['ChurnRiskScore', 'DemographicRiskScore', 'ProductRiskScore']\n",
    "df_engineered[risk_features].head(10)"
   ]
  },
  {
   "cell_type": "markdown",
   "metadata": {},
   "source": [
    "## 9. Feature Scaling"
   ]
  },
  {
   "cell_type": "code",
   "execution_count": null,
   "metadata": {},
   "source": [
    "# Select numerical features for scaling\n",
    "numerical_features = ['CreditScore', 'Age', 'Tenure', 'Balance', 'EstimatedSalary', \n",
    "                      'GermanyXAge', 'GermanyXBalance', 'BalanceToSalaryRatio',\n",
    "                      'ProductsXAge', 'ProductsXBalance', 'ProductsXTenure',\n",
    "                      'TenureSquared', 'CustomerValue']\n",
    "\n",
    "# Create a copy of the dataframe for scaled features\n",
    "df_scaled = df_engineered.copy()\n",
    "\n",
    "# Apply standard scaling\n",
    "scaler = StandardScaler()\n",
    "df_scaled[numerical_features] = scaler.fit_transform(df_scaled[numerical_features])\n",
    "\n",
    "# Display the scaled features\n",
    "df_scaled[numerical_features].head()"
   ]
  },
  {
   "cell_type": "markdown",
   "metadata": {},
   "source": [
    "## 10. Feature Selection"
   ]
  },
  {
   "cell_type": "code",
   "execution_count": null,
   "metadata": {},
   "source": [
    "# Separate features and target\n",
    "X = df_engineered.drop('Exited', axis=1)\n",
    "y = df_engineered['Exited']\n",
    "\n",
    "# Display all features\n",
    "print(f\"Total number of features: {X.shape[1]}\")\n",
    "print(\"Feature list:\")\n",
    "print(X.columns.tolist())"
   ]
  },
  {
   "cell_type": "code",
   "execution_count": null,
   "metadata": {},
   "source": [
    "# Select top features using ANOVA F-value\n",
    "selector_f = SelectKBest(f_classif, k=15)\n",
    "X_selected_f = selector_f.fit_transform(X, y)\n",
    "\n",
    "# Get selected feature names\n",
    "selected_indices_f = selector_f.get_support(indices=True)\n",
    "selected_features_f = X.columns[selected_indices_f]\n",
    "\n",
    "# Get feature scores\n",
    "feature_scores_f = pd.DataFrame({\n",
    "    'Feature': X.columns,\n",
    "    'Score': selector_f.scores_\n",
    "})\n",
    "feature_scores_f = feature_scores_f.sort_values('Score', ascending=False)\n",
    "\n",
    "# Display top features\n",
    "print(\"Top 15 features selected by ANOVA F-value:\")\n",
    "print(selected_features_f.tolist())\n",
    "print(\"\\nFeature scores:\")\n",
    "print(feature_scores_f.head(15))"
   ]
  },
  {
   "cell_type": "code",
   "execution_count": null,
   "metadata": {},
   "source": [
    "# Select top features using mutual information\n",
    "selector_mi = SelectKBest(mutual_info_classif, k=15)\n",
    "X_selected_mi = selector_mi.fit_transform(X, y)\n",
    "\n",
    "# Get selected feature names\n",
    "selected_indices_mi = selector_mi.get_support(indices=True)\n",
    "selected_features_mi = X.columns[selected_indices_mi]\n",
    "\n",
    "# Get feature scores\n",
    "feature_scores_mi = pd.DataFrame({\n",
    "    'Feature': X.columns,\n",
    "    'Score': selector_mi.scores_\n",
    "})\n",
    "feature_scores_mi = feature_scores_mi.sort_values('Score', ascending=False)\n",
    "\n",
    "# Display top features\n",
    "print(\"Top 15 features selected by Mutual Information:\")\n",
    "print(selected_features_mi.tolist())\n",
    "print(\"\\nFeature scores:\")\n",
    "print(feature_scores_mi.head(15))"
   ]
  },
  {
   "cell_type": "code",
   "execution_count": null,
   "metadata": {},
   "source": [
    "# Visualize feature importance\n",
    "plt.figure(figsize=(12, 8))\n",
    "sns.barplot(x='Score', y='Feature', data=feature_scores_f.head(15))\n",
    "plt.title('Top 15 Features by ANOVA F-value', fontsize=15)\n",
    "plt.tight_layout()\n",
    "plt.show()\n",
    "\n",
    "plt.figure(figsize=(12, 8))\n",
    "sns.barplot(x='Score', y='Feature', data=feature_scores_mi.head(15))\n",
    "plt.title('Top 15 Features by Mutual Information', fontsize=15)\n",
    "plt.tight_layout()\n",
    "plt.show()"
   ]
  },
  {
   "cell_type": "markdown",
   "metadata": {},
   "source": [
    "## 11. Create Final Feature Sets"
   ]
  },
  {
   "cell_type": "code",
   "execution_count": null,
   "metadata": {},
   "source": [
    "# Create a combined set of top features from both methods\n",
    "combined_features = list(set(selected_features_f) | set(selected_features_mi))\n",
    "print(f\"Number of combined features: {len(combined_features)}\")\n",
    "print(\"Combined feature list:\")\n",
    "print(combined_features)"
   ]
  },
  {
   "cell_type": "code",
   "execution_count": null,
   "metadata": {},
   "source": [
    "# Create final feature sets\n",
    "# 1. Original processed 
(Content truncated due to size limit. Use line ranges to read in chunks)