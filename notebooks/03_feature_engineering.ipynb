{
 "cells": [
  {
   "cell_type": "markdown",
   "metadata": {},
   "source": [
    "# Customer Churn Prediction - Feature Engineering\n",
    "\n",
    "This notebook implements feature engineering techniques to create predictive variables for the customer churn prediction model."
   ]
  },
  {
   "cell_type": "code",
   "execution_count": null,
   "metadata": {},
   "outputs": [],
   "source": [
    "# Import necessary libraries\n",
    "import pandas as pd\n",
    "import numpy as np\n",
    "import matplotlib.pyplot as plt\n",
    "import seaborn as sns\n",
    "import os\n",
    "import json\n",
    "from sklearn.feature_selection import SelectKBest, f_classif, mutual_info_classif\n",
    "from sklearn.preprocessing import StandardScaler\n",
    "\n",
    "# Set up plotting\n",
    "%matplotlib inline\n",
    "plt.style.use('seaborn-whitegrid')\n",
    "sns.set_style('whitegrid')\n",
    "plt.rcParams['figure.figsize'] = (12, 8)\n",
    "\n",
    "# Create directories for saving outputs\n",
    "os.makedirs('../data/processed', exist_ok=True)\n",
    "os.makedirs('../models', exist_ok=True)"
   ]
  },
  {
   "cell_type": "markdown",
   "metadata": {},
   "source": [
    "## 1. Load the Cleaned Data"
   ]
  },
  {
   "cell_type": "code",
   "execution_count": null,
   "metadata": {},
   "outputs": [],
   "source": [
    "# Load the cleaned data\n",
    "df_cleaned = pd.read_csv('../data/cleaned/churn_cleaned.csv')\n",
    "\n",
    "# Display basic information\n",
    "print(f\"Dataset shape: {df_cleaned.shape}\")\n",
    "print(f\"\\nColumns: {df_cleaned.columns.tolist()}\")\n",
    "print(f\"\\nSample data:\")\n",
    "df_cleaned.head()"
   ]
  },
  {
   "cell_type": "markdown",
   "metadata": {},
   "source": [
    "## 2. Create Base Features"
   ]
  },
  {
   "cell_type": "code",
   "execution_count": null,
   "metadata": {},
   "outputs": [],
   "source": [
    "# Create a copy of the dataframe for feature engineering\n",
    "df_engineered = df_cleaned.copy()\n",
    "\n",
    "# One-hot encode categorical variables\n",
    "df_engineered = pd.get_dummies(df_engineered, columns=['Geography', 'Gender'], drop_first=False)"
   ]
  },
  {
   "cell_type": "markdown",
   "metadata": {},
   "source": [
    "## 3. Create Age-related Features"
   ]
  },
  {
   "cell_type": "code",
   "execution_count": null,
   "metadata": {},
   "outputs": [],
   "source": [
    "# Create age-related features\n",
    "df_engineered['AgeGroup'] = pd.cut(df_engineered['Age'], bins=[0, 30, 40, 50, 60, 100], labels=[0, 1, 2, 3, 4]).astype(int)\n",
    "df_engineered['IsYoung'] = (df_engineered['Age'] < 30).astype(int)\n",
    "df_engineered['IsMiddleAged'] = ((df_engineered['Age'] >= 30) & (df_engineered['Age'] < 50)).astype(int)\n",
    "df_engineered['IsSenior'] = (df_engineered['Age'] >= 50).astype(int)\n",
    "df_engineered['IsRetirementAge'] = (df_engineered['Age'] >= 65).astype(int)\n",
    "\n",
    "# Display the new features\n",
    "age_features = ['Age', 'AgeGroup', 'IsYoung', 'IsMiddleAged', 'IsSenior', 'IsRetirementAge']\n",
    "df_engineered[age_features].head(10)"
   ]
  },
  {
   "cell_type": "markdown",
   "metadata": {},
   "source": [
    "## 4. Create Geography-related Features"
   ]
  },
  {
   "cell_type": "code",
   "execution_count": null,
   "metadata": {},
   "outputs": [],
   "source": [
    "# Create geography-related features\n",
    "df_engineered['GermanyXAge'] = df_engineered['Geography_Germany'] * df_engineered['Age']\n",
    "df_engineered['GermanyXBalance'] = df_engineered['Geography_Germany'] * df_engineered['Balance']\n",
    "df_engineered['GermanyXSenior'] = df_engineered['Geography_Germany'] * df_engineered['IsSenior']\n",
    "\n",
    "# Display the new features\n",
    "geography_features = ['Geography_France', 'Geography_Germany', 'Geography_Spain', 'GermanyXAge', 'GermanyXBalance', 'GermanyXSenior']\n",
    "df_engineered[geography_features].head(10)"
   ]
  },
  {
   "cell_type": "markdown",
   "metadata": {},
   "source": [
    "## 5. Create Balance-related Features"
   ]
  },
  {
   "cell_type": "code",
   "execution_count": null,
   "metadata": {},
   "outputs": [],
   "source": [
    "# Create balance-related features\n",
    "df_engineered['HasZeroBalance'] = (df_engineered['Balance'] == 0).astype(int)\n",
    "df_engineered['BalanceToSalaryRatio'] = df_engineered['Balance'] / (df_engineered['EstimatedSalary'] + 1)  # Add 1 to avoid division by zero\n",
    "high_balance_threshold = 100000  # This is an approximation, should be based on domain knowledge\n",
    "df_engineered['HasHighBalance'] = (df_engineered['Balance'] > high_balance_threshold).astype(int)\n",
    "\n",
    "# Display the new features\n",
    "balance_features = ['Balance', 'HasZeroBalance', 'BalanceToSalaryRatio', 'HasHighBalance']\n",
    "df_engineered[balance_features].head(10)"
   ]
  },
  {
   "cell_type": "markdown",
   "metadata": {},
   "source": [
    "## 6. Create Product-related Features"
   ]
  },
  {
   "cell_type": "code",
   "execution_count": null,
   "metadata": {},
   "outputs": [],
   "source": [
    "# Create product-related features\n",
    "df_engineered['HasMultipleProducts'] = (df_engineered['NumOfProducts'] > 1).astype(int)\n",
    "df_engineered['HasManyProducts'] = (df_engineered['NumOfProducts'] >= 3).astype(int)\n",
    "df_engineered['ProductsXAge'] = df_engineered['NumOfProducts'] * df_engineered['Age']\n",
    "df_engineered['ProductsXBalance'] = df_engineered['NumOfProducts'] * df_engineered['Balance']\n",
    "df_engineered['ProductsXTenure'] = df_engineered['NumOfProducts'] * df_engineered['Tenure']\n",
    "\n",
    "# Display the new features\n",
    "product_features = ['NumOfProducts', 'HasMultipleProducts', 'HasManyProducts', 'ProductsXAge', 'ProductsXBalance', 'ProductsXTenure']\n",
    "df_engineered[product_features].head(10)"
   ]
  },
  {
   "cell_type": "markdown",
   "metadata": {},
   "source": [
    "## 7. Create Tenure-related Features"
   ]
  },
  {
   "cell_type": "code",
   "execution_count": null,
   "metadata": {},
   "outputs": [],
   "source": [
    "# Create tenure-related features\n",
    "df_engineered['IsNewCustomer'] = (df_engineered['Tenure'] <= 1).astype(int)\n",
    "df_engineered['IsLongTermCustomer'] = (df_engineered['Tenure'] >= 8).astype(int)\n",
    "df_engineered['TenureSquared'] = df_engineered['Tenure'] ** 2\n",
    "df_engineered['CustomerValue'] = df_engineered['Tenure'] * df_engineered['Balance'] / 1000  # Scaled for better interpretability\n",
    "\n",
    "# Display the new features\n",
    "tenure_features = ['Tenure', 'IsNewCustomer', 'IsLongTermCustomer', 'TenureSquared', 'CustomerValue']\n",
    "df_engineered[tenure_features].head(10)"
   ]
  },
  {
   "cell_type": "markdown",
   "metadata": {},
   "source": [
    "## 8. Create Engagement-related Features"
   ]
  },
  {
   "cell_type": "code",
   "execution_count": null,
   "metadata": {},
   "outputs": [],
   "source": [
    "# Create engagement-related features\n",
    "df_engineered['EngagementScore'] = df_engineered['IsActiveMember'] * 0.5 + df_engineered['HasCrCard'] * 0.3 + (df_engineered['NumOfProducts'] / 4) * 0.2\n",
    "df_engineered['ActiveXTenure'] = df_engineered['IsActiveMember'] * df_engineered['Tenure']\n",
    "df_engineered['ActiveXProducts'] = df_engineered['IsActiveMember'] * df_engineered['NumOfProducts']\n",
    "df_engineered['ActiveXAge'] = df_engineered['IsActiveMember'] * df_engineered['Age']\n",
    "df_engineered['InactiveSenior'] = ((df_engineered['IsActiveMember'] == 0) & (df_engineered['IsSenior'] == 1)).astype(int)\n",
    "\n",
    "# Display the new features\n",
    "engagement_features = ['IsActiveMember', 'HasCrCard', 'EngagementScore', 'ActiveXTenure', 'ActiveXProducts', 'ActiveXAge', 'InactiveSenior']\n",
    "df_engineered[engagement_features].head(10)"
   ]
  },
  {
   "cell_type": "markdown",
   "metadata": {},
   "source": [
    "## 9. Create Risk Score Features"
   ]
  },
  {
   "cell_type": "code",
   "execution_count": null,
   "metadata": {},
   "outputs": [],
   "source": [
    "# Create risk score features based on EDA insights\n",
    "df_engineered['ChurnRiskScore'] = (\n",
    "    df_engineered['IsSenior'] * 0.25 + \n",
    "    df_engineered['Geography_Germany'] * 0.20 + \n",
    "    (1 - df_engineered['IsActiveMember']) * 0.25 + \n",
    "    df_engineered['HasManyProducts'] * 0.20 + \n",
    "    (df_engineered['Gender_Male'] == 0).astype(int) * 0.10\n",
    ")\n",
    "\n",
    "df_engineered['DemographicRiskScore'] = (\n",
    "    df_engineered['IsSenior'] * 0.4 + \n",
    "    df_engineered['Geography_Germany'] * 0.4 + \n",
    "    (df_engineered['Gender_Male'] == 0).astype(int) * 0.2\n",
    ")\n",
    "\n",
    "df_engineered['ProductRiskScore'] = (\n",
    "    df_engineered['HasManyProducts'] * 0.5 + \n",
    "    (1 - df_engineered['IsActiveMember']) * 0.3 + \n",
    "    (1 - df_engineered['HasCrCard']) * 0.2\n",
    ")\n",
    "\n",
    "# Display the new features\n",
    "risk_features = ['ChurnRiskScore', 'DemographicRiskScore', 'ProductRiskScore']\n",
    "df_engineered[risk_features].head(10)"
   ]
  },
  {
   "cell_type": "markdown",
   "metadata": {},
   "source": [
    "## 10. Feature Scaling"
   ]
  },
  {
   "cell_type": "code",
   "execution_count": null,
   "metadata": {},
   "outputs": [],
   "source": [
    "# Identify numerical features that need scaling\n",
    "numerical_features_to_scale = [\n",
    "    'CreditScore', 'Age', 'Tenure', 'Balance', 'EstimatedSalary',\n",
    "    'BalanceToSalaryRatio', 'ProductsXAge', 'ProductsXBalance', 'ProductsXTenure',\n",
    "    'TenureSquared', 'CustomerValue', 'GermanyXAge', 'GermanyXBalance'\n",
    "]\n",
    "\n",
    "# Create a copy of the dataframe for scaled features\n",
    "df_scaled = df_engineered.copy()\n",
    "\n",
    "# Apply standard scaling to numerical features\n",
    "scaler = StandardScaler()\n",
    "df_scaled[numerical_features_to_scale] = scaler.fit_transform(df_scaled[numerical_features_to_scale])\n",
    "\n",
    "# Display the scaled features\n",
    "df_scaled[numerical_features_to_scale].head()"
   ]
  },
  {
   "cell_type": "markdown",
   "metadata": {},
   "source": [
    "## 11. Feature Selection"
   ]
  },
  {
   "cell_type": "code",
   "execution_count": null,
   "metadata": {},
   "outputs": [],
   "source": [
    "# Prepare data for feature selection\n",
    "X = df_scaled.drop('Exited', axis=1)\n",
    "y = df_scaled['Exited']\n",
    "\n",
    "# Get list of all features\n",
    "all_features = X.columns.tolist()\n",
    "print(f\"Total number of features: {len(all_features)}\")"
   ]
  },
  {
   "cell_type": "markdown",
   "metadata": {},
   "source": [
    "### 11.1 ANOVA F-value Feature Selection"
   ]
  },
  {
   "cell_type": "code",
   "execution_count": null,
   "metadata": {},
   "outputs": [],
   "source": [
    "# Select top features using ANOVA F-value\n",
    "selector_f = SelectKBest(score_func=f_classif, k=20)\n",
    "selector_f.fit(X, y)\n",
    "\n",
    "# Get feature scores\n",
    "f_scores = pd.DataFrame({\n",
    "    'Feature': all_features,\n",
    "    'F_Score': selector_f.scores_,\n",
    "    'P_Value': selector_f.pvalues_\n",
    "})\n",
    "\n",
    "# Sort by F-score\n",
    "f_scores = f_scores.sort_values('F_Score', ascending=False)\n",
    "\n",
    "# Display top features\n",
    "print(\"Top 20 features selected by ANOVA F-value:\")\n",
    "f_scores.head(20)"
   ]
  },
  {
   "cell_type": "code",
   "execution_count": null,
   "metadata": {},
   "outputs": [],
   "source": [
    "# Visualize F-scores\n",
    "plt.figure(figsize=(12, 10))\n",
    "ax = sns.barplot(x='F_Score', y='Feature', data=f_scores.head(20))\n",
    "plt.title('Top 20 Features by F-Score', fontsize=15)\n",
    "plt.xlabel('F-Score', fontsize=12)\n",
    "plt.ylabel('Feature', fontsize=12)\n",
    "plt.tight_layout()\n",
    "plt.savefig('../docs/plots/top_features_f_score.png', dpi=300, bbox_inches='tight')\n",
    "plt.show()"
   ]
  },
  {
   "cell_type": "markdown",
   "metadata": {},
   "source": [
    "### 11.2 Mutual Information Feature Selection"
   ]
  },
  {
   "cell_type": "code",
   "execution_count": null,
   "metadata": {},
   "outputs": [],
   "source": [
    "# Select top features using Mutual Information\n",
    "selector_mi = SelectKBest(score_func=mutual_info_classif, k=20)\n",
    "selector_mi.fit(X, y)\n",
    "\n",
    "# Get feature scores\n",
    "mi_scores = pd.DataFrame({\n",
    "    'Feature': all_features,\n",
    "    'MI_Score': selector_mi.scores_\n",
    "})\n",
    "\n",
    "# Sort by MI-score\n",
    "mi_scores = mi_scores.sort_values('MI_Score', ascending=False)\n",
    "\n",
    "# Display top features\n",
    "print(\"Top 20 features selected by Mutual Information:\")\n",
    "mi_scores.head(20)"
   ]
  },
  {
   "cell_type": "code",
   "execution_count": null,
   "metadata": {},
   "outputs": [],
   "source": [
    "# Visualize MI-scores\n",
    "plt.figure(figsize=(12, 10))\n",
    "ax = sns.barplot(x='MI_Score', y='Feature', data=mi_scores.head(20))\n",
    "plt.title('Top 20 Features by Mutual Information', fontsize=15)\n",
    "plt.xlabel('Mutual Information Score', fontsize=12)\n",
    "plt.ylabel('Feature', fontsize=12)\n",
    "plt.tight_layout()\n",
    "plt.savefig('../docs/plots/top_features_mi_score.png', dpi=300, bbox_inches='tight')\n",
    "plt.show()"
   ]
  },
  {
   "cell_type": "markdown",
   "metadata": {},
   "source": [
    "### 11.3 Compare Feature Selection Methods"
   ]
  },
  {
   "cell_type": "code",
   "execution_count": null,
   "metadata": {},
   "outputs": [],
   "source": [
    "# Compare top features from both methods\n",
    "top_f_features = set(f_scores.head(20)['Feature'])\n",
    "top_mi_features = set(mi_scores.head(20)['Feature'])\n",
    "\n",
    "# Find common features\n",
    "common_features = top_f_features.intersection(top_mi_features)\n",
    "print(f\"Number of common features: {len(common_features)}\")\n",
    "print(f\"Common features: {sorted(list(common_features))}\")\n",
    "\n",
    "# Find unique features in each method\n",
    "unique_f_features = top_f_features - top_mi_features\n",
    "unique_mi_features = top_mi_features - top_f_features\n",
    "\n",
    "print(f\"\\nFeatures unique to F-score: {sorted(list(unique_f_features))}\")\n",
    "print(f\"Features unique to MI-score: {sorted(list(unique_mi_features))}\")"
   ]
  },
  {
   "cell_type": "markdown",
   "metadata": {},
   "source": [
    "## 12. Create Feature Sets"
   ]
  },
  {
   "cell_type": "code",
   "execution_count": null,
   "metadata": {},
   "outputs": [],
   "source": [
    "# Create different feature sets\n",
    "feature_sets = {\n",
    "    'all': all_features,\n",
    "    'original': ['CreditScore', 'Geography_France', 'Geography_Germany', 'Geography_Spain', \n",
    "                'Gender_Female', 'Gender_Male', 'Age', 'Tenure', 'Balance', 'NumOfProducts', \n",
    "                'HasCrCard', 'IsActiveMember', 'EstimatedSalary'],\n",
    "    'f_score_top20': f_scores.head(20)['Feature'].tolist(),\n",
    "    'mi_score_top20': mi_scores.head(20)['Feature'].tolist(),\n",
    "    'common': list(common_features),\n",
    "    'selected_top': [\n",
    "        # Top features from both methods\n",
    "        'Age', 'IsSenior', 'IsActiveMember', 'Geography_Germany', 'InactiveSenior',\n",
    "        'ChurnRiskScore', 'DemographicRiskScore', 'ProductRiskScore',\n",
    "        'HasManyProducts', 'HasMultipleProducts', 'NumOfProducts',\n",
    "        'ActiveXProducts', 'GermanyXSenior', 'Balance', 'HasZeroBalance',\n",
    "        # Additional features based on domain knowledge\n",
    "        'Gender_Male', 'Tenure', 'IsNewCustomer', 'EngagementScore'\n",
    "    ]\n",
    "}\n",
    "\n",
    "# Print feature set sizes\n",
    "for name, features in feature_sets.items():\n",
    "    print(f\"{name}: {len(features)} features\")"
   ]
  },
  {
   "cell_type": "markdown",
   "metadata": {},
   "source": [
    "## 13. Save Engineered Data"
   ]
  },
  {
   "cell_type": "code",
   "execution_count": null,
   "metadata": {},
   "outputs": [],
   "source": [
    "# Save unscaled engineered data\n",
    "df_engineered.to_csv('../data/processed/churn_engineered.csv', index=False)\n",
    "\n",
    "# Save scaled engineered data\n",
    "df_scaled.to_csv('../data/processed/churn_engineered_scaled.csv', index=False)\n",
    "\n",
    "# Save feature sets to JSON\n",
    "with open('../models/feature_sets.json', 'w') as f:\n",
    "    json.dump(feature_sets, f, indent=4)\n",
    "\n",
    "print(\"Engineered data and feature sets saved successfully.\")"
   ]
  }
 ],
 "metadata": {
  "kernelspec": {
   "display_name": "Python 3",
   "language": "python",
   "name": "python3"
  },
  "language_info": {
   "codemirror_mode": {
    "name": "ipython",
    "version": 3
   },
   "file_extension": ".py",
   "mimetype": "text/x-python",
   "name": "python",
   "nbconvert_exporter": "python",
   "pygments_lexer": "ipython3",
   "version": "3.12.8"
  }
 },
 "nbformat": 4,
 "nbformat_minor": 4
}
